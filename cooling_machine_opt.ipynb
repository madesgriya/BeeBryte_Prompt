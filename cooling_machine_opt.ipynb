{
 "cells": [
  {
   "cell_type": "markdown",
   "metadata": {},
   "source": [
    "# Cooling Machine Optimization"
   ]
  },
  {
   "cell_type": "markdown",
   "metadata": {},
   "source": [
    "`Prompt`: You are going to optimize the operation of a cooling machine. The engineering team tells you that it can be turned off when the external temperature is below 5 degrees but must be on otherwise. On top of this, the machine has to remain on for at least 2 hours when it is on, and off for at least 2 hours when it is off. The optimization step is one hour (i.e., every hour we have to send an on/off setpoint). Write a function that returns the setpoints that you would send to this cooling machine given the current status of the machine (is it on or off and for how long it has been this way), current external temperature and prediction of future external temperature and show how it works with an example. "
   ]
  },
  {
   "cell_type": "markdown",
   "metadata": {},
   "source": [
    "`Requirement`\n",
    "- Machine turn-off ambient temperature set point: 5 deg. C.\n",
    "- min. on/ff cycle:  2 hours\n",
    "- optimization frequency: 1 hour\n",
    "- command type: binary (on/off)\n",
    "\n",
    "input: \n",
    "- external temperature\n",
    "- machine feedback status (on/off)\n",
    "- predicted of future external temperature\n",
    "\n",
    "unknown variables:\n",
    "- data logging frequency (assumed 1 min freq.)"
   ]
  },
  {
   "cell_type": "code",
   "execution_count": 7,
   "metadata": {},
   "outputs": [],
   "source": [
    "import numpy as np\n",
    "import matplotlib.pyplot as plt\n",
    "from sklearn.preprocessing import PolynomialFeatures\n",
    "import statsmodels.api as sm\n",
    "import pandas as pd\n",
    "from IPython.display import display, clear_output"
   ]
  },
  {
   "cell_type": "markdown",
   "metadata": {},
   "source": [
    "## Generating Dummy Temperature Data with Predicted Future Temmperature"
   ]
  },
  {
   "cell_type": "code",
   "execution_count": 8,
   "metadata": {},
   "outputs": [],
   "source": [
    "def generateTemps():\n",
    "    mean_temp = 5\n",
    "    st_dev = 1.5\n",
    "    num_data = 24\n",
    "\n",
    "    oa_t = np.random.normal(mean_temp,st_dev,num_data)\n",
    "    daily_fluctuation = 10 * np.sin(np.arange(num_data) * (-2.25 *np.pi / num_data))\n",
    "    oa_t += daily_fluctuation\n",
    "\n",
    "    x = np.arange(len(oa_t))\n",
    "    y = oa_t\n",
    "\n",
    "    x= x[:,np.newaxis]\n",
    "    y= y[:,np.newaxis]\n",
    "\n",
    "    polynomial_features= PolynomialFeatures(degree=5)\n",
    "    xp = polynomial_features.fit_transform(x)\n",
    "    model = sm.OLS(y, xp).fit()\n",
    "    oa_t_pred = model.predict(xp)\n",
    "\n",
    "    return oa_t, oa_t_pred"
   ]
  },
  {
   "cell_type": "code",
   "execution_count": 23,
   "metadata": {},
   "outputs": [
    {
     "name": "stdout",
     "output_type": "stream",
     "text": [
      "\n",
      "curr_hour: 5\n",
      "curr_temp: -5.642647849978239\n",
      "future_temp: -4.224895975912952\n",
      "\n",
      "opstat: 1\n",
      "on_count: 6\n",
      "off_count: 0\n",
      "steady_state: True\n",
      "\n",
      "sending machine status: 0\n"
     ]
    },
    {
     "data": {
      "image/png": "[encoded data removed]",
      "text/plain": [
       "<Figure size 432x288 with 1 Axes>"
      ]
     },
     "metadata": {
      "needs_background": "light"
     },
     "output_type": "display_data"
    },
    {
     "data": {
      "image/png": "[encoded data removed]",
      "text/plain": [
       "<Figure size 432x288 with 1 Axes>"
      ]
     },
     "metadata": {
      "needs_background": "light"
     },
     "output_type": "display_data"
    },
    {
     "name": "stdout",
     "output_type": "stream",
     "text": [
      "epoch: 6\n",
      "##########################################################\n"
     ]
    }
   ],
   "source": [
    "# initiating optimization variables\n",
    "steady_state = True\n",
    "on_count = 0\n",
    "off_count = 0\n",
    "timer_th = 2 #hours\n",
    "curr_hour = 24\n",
    "oa_t, oa_t_pred = generateTemps()\n",
    "\n",
    "def machine_command(curr_temp,future_temp):\n",
    "    if curr_temp < 5:\n",
    "        if steady_state == True:\n",
    "            return 0\n",
    "        else:\n",
    "            return 1\n",
    "    else:\n",
    "        if steady_state == True:\n",
    "            return 1\n",
    "        else: \n",
    "            return 0\n",
    "        \n",
    "epoch = 0\n",
    "machine_status = []\n",
    "\n",
    "while True:\n",
    "    opstat = int(input(\"enter machine status: \"))\n",
    "    clear_output(wait=True)  # Clear the previous output\n",
    "    future_hour = curr_hour + 1\n",
    "\n",
    "    if curr_hour > 23:\n",
    "        curr_hour = curr_hour%24\n",
    "    \n",
    "    if future_hour > 23:\n",
    "        future_hour = future_hour%24\n",
    "\n",
    "    curr_temp = oa_t[curr_hour]\n",
    "    future_temp = oa_t_pred[future_hour] \n",
    "    try:\n",
    "        if opstat == 1:\n",
    "            on_count += 1\n",
    "            off_count = 0\n",
    "        elif opstat == 0:\n",
    "            off_count += 1\n",
    "            on_count = 0\n",
    "        else:\n",
    "            print(\"invalid opstat input\")\n",
    "            break\n",
    "\n",
    "        if off_count or on_count >= timer_th:\n",
    "            steady_state = True\n",
    "        else:\n",
    "            steady_state = False\n",
    "\n",
    "        machine_cmd = machine_command(curr_temp,future_temp)\n",
    "        machine_status.append(machine_cmd)\n",
    "\n",
    "        print(\"\")\n",
    "        print(\"curr_hour: \" + str(curr_hour))\n",
    "        print(\"curr_temp: \" + str(curr_temp))\n",
    "        print(\"future_temp: \" + str(future_temp))\n",
    "        print(\"\")\n",
    "        print(\"opstat: \" + str(opstat))\n",
    "        print(\"on_count: \" + str(on_count))\n",
    "        print(\"off_count: \" + str(off_count))\n",
    "        print(\"steady_state: \" + str(steady_state))\n",
    "        print(\"\")\n",
    "        print(\"sending machine status: \" + str(machine_cmd))\n",
    "\n",
    "        plt.plot(oa_t[:curr_hour+1], label=\"actual\")\n",
    "        plt.plot(oa_t_pred[:curr_hour+2], label=\"predicted\")\n",
    "        plt.plot(curr_hour,oa_t[curr_hour],\"*\",label=\"curr_temp\") \n",
    "        plt.xlabel(\"hour of the day\")\n",
    "        plt.ylabel(\"deg. C\")\n",
    "        plt.legend()\n",
    "        plt.show()\n",
    "\n",
    "        plt.plot(machine_status)\n",
    "        plt.show()\n",
    "\n",
    "        if machine_command != None:\n",
    "            epoch += 1\n",
    "            curr_hour += 1\n",
    "        \n",
    "        print(\"epoch: \" + str(epoch))\n",
    "        print(\"##########################################################\")\n",
    "\n",
    "    except Exception as e:\n",
    "        print(e)"
   ]
  }
 ],
 "metadata": {
  "kernelspec": {
   "display_name": "Python 3",
   "language": "python",
   "name": "python3"
  },
  "language_info": {
   "codemirror_mode": {
    "name": "ipython",
    "version": 3
   },
   "file_extension": ".py",
   "mimetype": "text/x-python",
   "name": "python",
   "nbconvert_exporter": "python",
   "pygments_lexer": "ipython3",
   "version": "3.10.4"
  }
 },
 "nbformat": 4,
 "nbformat_minor": 2
}
